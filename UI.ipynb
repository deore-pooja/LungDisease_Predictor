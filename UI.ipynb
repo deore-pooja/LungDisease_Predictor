{
 "cells": [
  {
   "cell_type": "code",
   "execution_count": 1,
   "id": "636393bf-f8a5-45af-8d27-9e2244262c11",
   "metadata": {},
   "outputs": [],
   "source": [
    "#pip install ipywidgets"
   ]
  },
  {
   "cell_type": "code",
   "execution_count": 2,
   "id": "7f2eb6c4-a19d-40c9-b83d-ea7e4337d598",
   "metadata": {},
   "outputs": [
    {
     "name": "stdout",
     "output_type": "stream",
     "text": [
      "The dataset has been extracted.\n",
      "Loading pre-trained weights...\n"
     ]
    },
    {
     "name": "stderr",
     "output_type": "stream",
     "text": [
      "C:\\Users\\POOJA DEORE\\AppData\\Local\\Programs\\Python\\Python312\\Lib\\site-packages\\keras\\src\\layers\\convolutional\\base_conv.py:99: UserWarning: Do not pass an `input_shape`/`input_dim` argument to a layer. When using Sequential models, prefer using an `Input(shape)` object as the first layer in the model instead.\n",
      "  super().__init__(\n"
     ]
    },
    {
     "name": "stdout",
     "output_type": "stream",
     "text": [
      "Weights loaded successfully!\n",
      "Running on local URL:  http://127.0.0.1:7861\n",
      "\n",
      "To create a public link, set `share=True` in `launch()`.\n"
     ]
    },
    {
     "data": {
      "text/html": [
       "<div><iframe src=\"http://127.0.0.1:7861/\" width=\"100%\" height=\"500\" allow=\"autoplay; camera; microphone; clipboard-read; clipboard-write;\" frameborder=\"0\" allowfullscreen></iframe></div>"
      ],
      "text/plain": [
       "<IPython.core.display.HTML object>"
      ]
     },
     "metadata": {},
     "output_type": "display_data"
    },
    {
     "name": "stdout",
     "output_type": "stream",
     "text": [
      "\u001b[1m1/1\u001b[0m \u001b[32m━━━━━━━━━━━━━━━━━━━━\u001b[0m\u001b[37m\u001b[0m \u001b[1m0s\u001b[0m 206ms/step\n"
     ]
    }
   ],
   "source": [
    "import gradio as gr\n",
    "import os\n",
    "from zipfile import ZipFile\n",
    "from PIL import Image\n",
    "import tensorflow as tf\n",
    "from tensorflow import keras\n",
    "from keras import layers\n",
    "import numpy as np\n",
    "\n",
    "IMG_SIZE = 256  # Updated to 256\n",
    "\n",
    "# Function to load the data and get classes\n",
    "def load_data():\n",
    "    # Extract the data from the zip file\n",
    "    data_path = 'lung_image_sets.zip'\n",
    "    with ZipFile(data_path, 'r') as zip:\n",
    "        zip.extractall()\n",
    "    print('The dataset has been extracted.')\n",
    "    # Get the list of classes\n",
    "    path = 'lung_image_sets'\n",
    "    classes = os.listdir(path)\n",
    "    return classes\n",
    "\n",
    "# Create the model architecture to match your original model\n",
    "def create_model():\n",
    "    model = keras.models.Sequential([\n",
    "        layers.Conv2D(filters=32, kernel_size=(5, 5), activation='relu', input_shape=(IMG_SIZE, IMG_SIZE, 3), padding='same'),\n",
    "        layers.MaxPooling2D(2, 2),\n",
    "        layers.Conv2D(filters=64, kernel_size=(3, 3), activation='relu', padding='same'),\n",
    "        layers.MaxPooling2D(2, 2),\n",
    "        layers.Conv2D(filters=128, kernel_size=(3, 3), activation='relu', padding='same'),\n",
    "        layers.MaxPooling2D(2, 2),\n",
    "        layers.Flatten(),\n",
    "        layers.Dense(256, activation='relu'),\n",
    "        layers.BatchNormalization(),\n",
    "        layers.Dense(128, activation='relu'),\n",
    "        layers.Dropout(0.3),\n",
    "        layers.BatchNormalization(),\n",
    "        layers.Dense(3, activation='softmax')\n",
    "    ])\n",
    "    return model\n",
    "\n",
    "# Load the classes and model\n",
    "classes = load_data()\n",
    "model = create_model()\n",
    "\n",
    "# Print model summary\n",
    "#model.summary()\n",
    "\n",
    "# Load pre-trained weights\n",
    "weights_path = 'weights/weights.keras'  # Update this path to your weight file\n",
    "if os.path.exists(weights_path):\n",
    "    print(\"Loading pre-trained weights...\")\n",
    "    try:\n",
    "        model.load_weights(weights_path)\n",
    "        print(\"Weights loaded successfully!\")\n",
    "    except Exception as e:\n",
    "        print(f\"Error loading weights: {e}\")\n",
    "        print(\"Model expects the following shapes:\")\n",
    "        for layer in model.layers:\n",
    "            if hasattr(layer, 'input_shape') and hasattr(layer, 'output_shape'):\n",
    "                print(f\"{layer.name}: Input shape = {layer.input_shape}, Output shape = {layer.output_shape}\")\n",
    "            else:\n",
    "                print(f\"{layer.name}: Shape information not available\")\n",
    "else:\n",
    "    raise FileNotFoundError(f\"Weight file not found at {weights_path}\")\n",
    "\n",
    "# Function to classify the image\n",
    "def classify_image(image):\n",
    "    image = image.resize((IMG_SIZE, IMG_SIZE))\n",
    "    image_array = tf.keras.preprocessing.image.img_to_array(image)\n",
    "    image_array = tf.expand_dims(image_array, 0) / 255.0  # Normalize\n",
    "\n",
    "    prediction = model.predict(image_array)\n",
    "    predicted_class = classes[np.argmax(prediction)]\n",
    "    confidence = np.max(prediction)\n",
    "    \n",
    "    return f\"{predicted_class} (Confidence: {confidence:.2f})\"\n",
    "\n",
    "# Gradio interface\n",
    "def lung_cancer_app():\n",
    "    with gr.Blocks() as demo:\n",
    "        gr.Markdown(\"# Lung Cancer Classification\")\n",
    "        with gr.Column():\n",
    "            image_input = gr.Image(type=\"pil\", label=\"Input Image\")\n",
    "            classify_button = gr.Button(\"Classify\")\n",
    "        with gr.Row():\n",
    "            prediction_output = gr.Label(label=\"Prediction\")\n",
    "        \n",
    "        classify_button.click(\n",
    "            fn=classify_image,\n",
    "            inputs=image_input,\n",
    "            outputs=prediction_output\n",
    "        )\n",
    "    demo.launch()\n",
    "\n",
    "if __name__ == \"__main__\":\n",
    "    lung_cancer_app()"
   ]
  },
  {
   "cell_type": "code",
   "execution_count": null,
   "id": "47a7ef63-e794-4f16-841b-1b92cfa21454",
   "metadata": {},
   "outputs": [],
   "source": []
  }
 ],
 "metadata": {
  "kernelspec": {
   "display_name": "Python 3 (ipykernel)",
   "language": "python",
   "name": "python3"
  },
  "language_info": {
   "codemirror_mode": {
    "name": "ipython",
    "version": 3
   },
   "file_extension": ".py",
   "mimetype": "text/x-python",
   "name": "python",
   "nbconvert_exporter": "python",
   "pygments_lexer": "ipython3",
   "version": "3.12.1"
  }
 },
 "nbformat": 4,
 "nbformat_minor": 5
}
